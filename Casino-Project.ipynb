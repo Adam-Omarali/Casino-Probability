{
 "cells": [
  {
   "cell_type": "code",
   "execution_count": 495,
   "metadata": {},
   "outputs": [],
   "source": [
    "import math\n",
    "import numpy as np\n",
    "import seaborn as sns\n",
    "import pandas as pd\n",
    "from itertools import combinations\n",
    "from collections import Counter\n",
    "import random\n",
    "import matplotlib.pyplot as plt"
   ]
  },
  {
   "cell_type": "code",
   "execution_count": 2,
   "metadata": {},
   "outputs": [],
   "source": [
    "sns.set_theme(style=\"darkgrid\")"
   ]
  },
  {
   "cell_type": "code",
   "execution_count": 3,
   "metadata": {},
   "outputs": [],
   "source": [
    "def choose(elements, choices):\n",
    "    return math.factorial(elements) / (math.factorial(choices) * math.factorial(elements - choices))"
   ]
  },
  {
   "cell_type": "code",
   "execution_count": 106,
   "metadata": {},
   "outputs": [],
   "source": [
    "def nCk(n, k):\n",
    "    return choose(n, k) if k >= 0 and k <= n else 0"
   ]
  },
  {
   "cell_type": "code",
   "execution_count": 4,
   "metadata": {},
   "outputs": [],
   "source": [
    "SUITS = [\"Diamonds\", \"Spades\", \"Hearts\", \"Clubs\"]\n",
    "RANKS = [\"2\", \"3\", \"4\", \"5\", \"6\", \"7\", \"8\", \"9\", \"10\", \"Jack\", \"Queen\", \"King\", \"1\"]"
   ]
  },
  {
   "cell_type": "code",
   "execution_count": 5,
   "metadata": {},
   "outputs": [],
   "source": [
    "FACE_PAYOUT = 4\n",
    "NUMBER_PAYOUT = 2\n",
    "FACE_NUMBER_PAYOUT = 6"
   ]
  },
  {
   "cell_type": "code",
   "execution_count": 308,
   "metadata": {},
   "outputs": [],
   "source": [
    "def pNoFace(i):\n",
    "    return (nCk(3, i) * 4 ** i) / nCk(12, i)"
   ]
  },
  {
   "cell_type": "code",
   "execution_count": 327,
   "metadata": {},
   "outputs": [],
   "source": [
    "def pNoNumber(i):\n",
    "    return (nCk(10, i) * 4 ** i) / nCk(40, i)"
   ]
  },
  {
   "cell_type": "code",
   "execution_count": 325,
   "metadata": {},
   "outputs": [],
   "source": [
    "def pNoPair(cardsDrawn):\n",
    "    return nCk(13, cardsDrawn) * (choose(4, 1) ** cardsDrawn) / nCk(52, cardsDrawn)"
   ]
  },
  {
   "cell_type": "code",
   "execution_count": 439,
   "metadata": {},
   "outputs": [],
   "source": [
    "def chooseFace(i, n):\n",
    "    return (nCk(12, i) * nCk(40, n - i)) / nCk (52, n)"
   ]
  },
  {
   "cell_type": "code",
   "execution_count": 438,
   "metadata": {},
   "outputs": [],
   "source": [
    "def chooseNumber(i, n):\n",
    "    return (nCk(40, i) * nCk(12, n - i)) / nCk(52, n)"
   ]
  },
  {
   "cell_type": "code",
   "execution_count": 434,
   "metadata": {},
   "outputs": [],
   "source": [
    "def onlyFacePair(i, cardsDrawn):\n",
    "    return (1 - pNoFace(i)) * (pNoNumber(cardsDrawn - i)) * chooseFace(i, cardsDrawn)"
   ]
  },
  {
   "cell_type": "code",
   "execution_count": 441,
   "metadata": {},
   "outputs": [],
   "source": [
    "def onlyNumberPair(i, cardsDrawn):\n",
    "    if (i < 3):\n",
    "        return (1 - pNoNumber(i)) * chooseNumber(i, cardsDrawn)\n",
    "    return pNoFace(cardsDrawn - i) * (1 - pNoNumber(i)) * chooseNumber(i, cardsDrawn)"
   ]
  },
  {
   "cell_type": "code",
   "execution_count": 433,
   "metadata": {},
   "outputs": [],
   "source": [
    "def faceAndNumberPair(i, cardsDrawn):\n",
    "    return (1 - pNoFace(i)) * (1 - pNoNumber(cardsDrawn - i))* chooseFace(i, cardsDrawn)"
   ]
  },
  {
   "cell_type": "code",
   "execution_count": 340,
   "metadata": {},
   "outputs": [],
   "source": [
    "def noPairs(i, cardsDrawn):\n",
    "    return pNoFace(i) * pNoNumber(cardsDrawn - i) * chooseFace(i, cardsDrawn)"
   ]
  },
  {
   "cell_type": "code",
   "execution_count": 482,
   "metadata": {},
   "outputs": [],
   "source": [
    "def getPorbability(cardsDrawn):\n",
    "    pFacePair = 0\n",
    "    pNumPair = 0\n",
    "    pFaceAndNumber = 0\n",
    "    pNoPair = 0\n",
    "    for i in range(0, cardsDrawn + 1):\n",
    "        pFacePair += onlyFacePair(i, cardsDrawn)\n",
    "        pNumPair += onlyNumberPair(i, cardsDrawn)\n",
    "        pFaceAndNumber += faceAndNumberPair(i, cardsDrawn)\n",
    "        pNoPair += noPairs(i, cardsDrawn)\n",
    "    \n",
    "    return {'One Face Pair': pFacePair, 'One Number Pair': pNumPair, 'No Pairs': pNoPair, 'Both Face & Number Pair': pFaceAndNumber}"
   ]
  },
  {
   "cell_type": "code",
   "execution_count": 472,
   "metadata": {},
   "outputs": [],
   "source": [
    "def getProbabilityTable(bet):\n",
    "    df = pd.DataFrame({'Dice Roll' : [], 'Face Pair': [], 'Number Pair': [], 'Probability': []})\n",
    "    events = [[False, False], [False, True], [True, False], [True, True]] #[face pair, number pair]\n",
    "    \n",
    "    for roll in range(1, 7):\n",
    "        allProbability = getPorbability(roll)\n",
    "        if bet == 2:\n",
    "            allProbability = getPorbability(roll + bet)\n",
    "        elif bet == 3:\n",
    "            allProbability = getPorbability(roll + bet)\n",
    "\n",
    "        for event in events:\n",
    "            probability = allProbability['Both Face & Number Pair']\n",
    "            if(not event[0] and not event[1]):\n",
    "                probability = allProbability['No Pairs']\n",
    "            elif(event[0] and not event[1]):\n",
    "                probability = allProbability['One Face Pair']\n",
    "            elif(not event[0] and event[1]):\n",
    "                probability = allProbability['One Number Pair']\n",
    "            df.loc[df.shape[0]] = [roll, event[0], event[1], probability]\n",
    "    \n",
    "    return df"
   ]
  },
  {
   "cell_type": "code",
   "execution_count": 298,
   "metadata": {},
   "outputs": [],
   "source": [
    "def simulation(n, cardsDrawn, bet):\n",
    "    nFacePair = 0\n",
    "    nNumberPair = 0\n",
    "    nNoPair = 0\n",
    "    nFaceNumberPair = 0\n",
    "    payoutValue = 0\n",
    "\n",
    "    pFacePair = []\n",
    "    pNumberPair = []\n",
    "    pNoPair = []\n",
    "    pFaceNumberPair = []\n",
    "    payoutArr = []\n",
    "\n",
    "    for j in range(n):\n",
    "        numberPair = False\n",
    "        facePair = False\n",
    "        drawnCards = set()\n",
    "\n",
    "        while len(drawnCards) < cardsDrawn:\n",
    "            suit = list(np.random.choice(SUITS, size=1))[0]\n",
    "            rank = list(np.random.choice(RANKS, size=1))[0]\n",
    "            drawnCards.add((rank, suit))\n",
    "\n",
    "        arr = [x[0][0:2] for x in list(drawnCards)]\n",
    "\n",
    "        counter = dict(Counter(arr))\n",
    "\n",
    "        if len(counter) == cardsDrawn:\n",
    "            nNoPair += 1\n",
    "\n",
    "        for i in counter:\n",
    "            if counter[i] > 1:\n",
    "                if i.isnumeric() and not numberPair:\n",
    "                    nNumberPair += 1\n",
    "                    numberPair = True\n",
    "                elif not facePair:\n",
    "                    nFacePair += 1\n",
    "                    facePair = True  \n",
    "\n",
    "        if facePair and numberPair:\n",
    "            nFaceNumberPair += 1\n",
    "            nNumberPair -= 1\n",
    "            nFacePair -= 1 \n",
    "            payoutValue += bet - FACE_NUMBER_PAYOUT\n",
    "        elif facePair:\n",
    "            payoutValue += bet - FACE_PAYOUT\n",
    "        elif numberPair:\n",
    "            payoutValue += bet - NUMBER_PAYOUT\n",
    "        else:\n",
    "            payoutValue += bet\n",
    "\n",
    "        \n",
    "        \n",
    "        pFacePair.append(nFacePair / (j+1))\n",
    "        pNumberPair.append(nNumberPair / (j+1))\n",
    "        pNoPair.append(nNoPair / (j+1))\n",
    "        pFaceNumberPair.append(nFaceNumberPair / (j+1))\n",
    "        payoutArr.append(payoutValue)\n",
    "    \n",
    "    \n",
    "    df = pd.DataFrame({'Payout': payoutArr, 'Trials': range(1, n + 1)})\n",
    "    sns.relplot(data=df, x = 'Trials', y=\"Payout\", kind='line')\n",
    "\n",
    "    return {'Face Pair': nFacePair / n, 'Number Pair': nNumberPair / n, 'No Pair': nNoPair / n, 'Face and Number': nFaceNumberPair / n} \n"
   ]
  },
  {
   "cell_type": "code",
   "execution_count": 436,
   "metadata": {},
   "outputs": [
    {
     "name": "stdout",
     "output_type": "stream",
     "text": [
      "{'Face Pair': 0.1, 'Number Pair': 0.34, 'No Pair': 0.1, 'Face and Number': 0.46}\n"
     ]
    },
    {
     "data": {
      "image/png": "[encoded data removed]",
      "text/plain": [
       "<Figure size 360x360 with 1 Axes>"
      ]
     },
     "metadata": {},
     "output_type": "display_data"
    }
   ],
   "source": [
    "print(simulation(100, 8, 2))\n"
   ]
  },
  {
   "cell_type": "code",
   "execution_count": 492,
   "metadata": {},
   "outputs": [],
   "source": [
    "def EV(bet):\n",
    "    totalEV = 0\n",
    "    for i in range(1, 7):\n",
    "        if bet == 1:\n",
    "            p = getPorbability(i)\n",
    "        else:\n",
    "            p = getPorbability(i + bet)\n",
    "        facePair = p['One Face Pair']\n",
    "        numberPair = p['One Number Pair']\n",
    "        noPair = p['No Pairs']\n",
    "        pairFaceNumber = p['Both Face & Number Pair']\n",
    "        if bet == 1:\n",
    "            ev = noPair * bet + facePair * (bet - FACE_PAYOUT) + numberPair * (bet - NUMBER_PAYOUT) + pairFaceNumber * (bet - FACE_PAYOUT)\n",
    "        else:\n",
    "            ev = noPair * bet + facePair * (bet - FACE_PAYOUT) + numberPair * (bet - NUMBER_PAYOUT) + pairFaceNumber * (bet - FACE_NUMBER_PAYOUT)\n",
    "        totalEV += (1 / 6) * ev\n",
    "\n",
    "    return totalEV\n"
   ]
  },
  {
   "cell_type": "code",
   "execution_count": 493,
   "metadata": {},
   "outputs": [
    {
     "data": {
      "text/plain": [
       "0.287710625985255"
      ]
     },
     "execution_count": 493,
     "metadata": {},
     "output_type": "execute_result"
    }
   ],
   "source": [
    "EV(1)"
   ]
  },
  {
   "cell_type": "code",
   "execution_count": 490,
   "metadata": {},
   "outputs": [
    {
     "data": {
      "text/plain": [
       "0.4547057009667882"
      ]
     },
     "execution_count": 490,
     "metadata": {},
     "output_type": "execute_result"
    }
   ],
   "source": [
    "EV(2)"
   ]
  },
  {
   "cell_type": "code",
   "execution_count": 491,
   "metadata": {},
   "outputs": [
    {
     "data": {
      "text/plain": [
       "0.9986753866267079"
      ]
     },
     "execution_count": 491,
     "metadata": {},
     "output_type": "execute_result"
    }
   ],
   "source": [
    "EV(3)"
   ]
  },
  {
   "cell_type": "code",
   "execution_count": 494,
   "metadata": {},
   "outputs": [],
   "source": [
    "def probabilityOfPairOld(cardsDrawn):\n",
    "    nFaceCards = 3 * 4\n",
    "    nWaysTotal = choose(52, cardsDrawn)\n",
    "\n",
    "    nNoPair = (choose(13, cardsDrawn) * (choose(4, 1) ** cardsDrawn))\n",
    "    pNoPair = nNoPair / nWaysTotal\n",
    "    pAtLeastOnePair = 1 - (nNoPair / nWaysTotal)\n",
    "\n",
    "    #NP - Includes number pairs\n",
    "    nOneFaceNP = choose(nFaceCards, 1) * choose(52 - nFaceCards, cardsDrawn - 1)\n",
    "    if (cardsDrawn > 1):\n",
    "        nTwoFaceNP = choose(3, 2) * (choose(4, 1) ** 2) * choose(52 - nFaceCards, cardsDrawn - 2)\n",
    "        if (cardsDrawn > 2):\n",
    "            nThreeFaceNP = (choose(4, 1) ** 3) * choose(52 - nFaceCards, cardsDrawn - 3)\n",
    "        else:\n",
    "            nThreeFaceNP = 0\n",
    "    else:\n",
    "        nTwoFaceNP = 0\n",
    "        nThreeFaceNP = 0\n",
    "    nNoFaceNP = choose(52 - nFaceCards, cardsDrawn)\n",
    "    pAtLeastOneFacePair = 1 - ((nNoFaceNP + nOneFaceNP + nTwoFaceNP + nThreeFaceNP) / nWaysTotal) #allows for number pairs\n",
    "\n",
    "\n",
    "    nNoNumber = 0\n",
    "    for i in range(1, cardsDrawn + 1):\n",
    "        nNoNumber += choose(nFaceCards, i) * (choose(10, cardsDrawn - i) * (math.pow(choose(4, 1), (cardsDrawn - i))))\n",
    "    \n",
    "    nNoFace = choose(10, cardsDrawn) * (math.pow(choose(4, 1), (cardsDrawn)))\n",
    "\n",
    "\n",
    "    pAtLeastOneNumberPair = 1 - (nNoFace + nNoNumber) / nWaysTotal # all for face pairs\n",
    "\n",
    "\n",
    "    return {'One Face Pair': pAtLeastOneFacePair, 'One Number Pair': pAtLeastOneNumberPair, 'No Pairs': pNoPair, 'Both Face & Number Pair': pAtLeastOneFacePair * pAtLeastOneNumberPair}"
   ]
  }
 ],
 "metadata": {
  "kernelspec": {
   "display_name": "tensorflow",
   "language": "python",
   "name": "python3"
  },
  "language_info": {
   "codemirror_mode": {
    "name": "ipython",
    "version": 3
   },
   "file_extension": ".py",
   "mimetype": "text/x-python",
   "name": "python",
   "nbconvert_exporter": "python",
   "pygments_lexer": "ipython3",
   "version": "3.7.9"
  },
  "orig_nbformat": 4,
  "vscode": {
   "interpreter": {
    "hash": "02213786bd1b12f6b0871ef1f7df5c2475fc7500030e37ae8bb94d84bdf034f3"
   }
  }
 },
 "nbformat": 4,
 "nbformat_minor": 2
}
